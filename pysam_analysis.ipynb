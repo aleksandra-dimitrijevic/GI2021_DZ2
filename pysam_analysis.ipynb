{
 "cells": [
  {
   "cell_type": "code",
   "execution_count": 1,
   "metadata": {},
   "outputs": [
    {
     "name": "stdout",
     "output_type": "stream",
     "text": [
      "Collecting pysam\n",
      "  Downloading pysam-0.16.0.1-cp38-cp38-manylinux1_x86_64.whl (10.2 MB)\n",
      "\u001b[K     |████████████████████████████████| 10.2 MB 13.5 MB/s eta 0:00:01\n",
      "\u001b[?25hInstalling collected packages: pysam\n",
      "Successfully installed pysam-0.16.0.1\n",
      "Note: you may need to restart the kernel to use updated packages.\n"
     ]
    }
   ],
   "source": [
    "pip install pysam"
   ]
  },
  {
   "cell_type": "code",
   "execution_count": 2,
   "metadata": {},
   "outputs": [
    {
     "name": "stdout",
     "output_type": "stream",
     "text": [
      "C0HVYACXX120402:7:1207:5722:57044\t1187\t20\t9483248\t27\t76M\t20\t9483381\t76\tTTTTCAAACAGTATCTATGCCTGCCAAATGTGAACATATAAAAAAAAACCAGAATGTGCCATTCTGATTTAAACTG\tarray('B', [28, 28, 27, 29, 31, 30, 31, 31, 29, 31, 35, 30, 29, 31, 34, 30, 29, 23, 41, 32, 20, 30, 29, 34, 34, 29, 30, 31, 30, 30, 30, 33, 33, 26, 39, 12, 25, 19, 32, 30, 35, 28, 35, 33, 23, 33, 35, 36, 30, 38, 33, 41, 34, 35, 31, 33, 23, 30, 30, 36, 27, 32, 29, 34, 35, 41, 33, 31, 33, 29, 32, 32, 31, 31, 31, 34])\t[('XA', 'GL000217.1,-110754,76M,1;'), ('BD', 'NNNNNNNNNNNNNNNNNNNNNNNNNNNNNNNNNNNNNNNNNNNNNNNNNNNNNNNNNNNNNNNNNNNNNNNNNNNN'), ('MD', '76'), ('RG', '1'), ('BI', 'NNNNNNNNNNNNNNNNNNNNNNNNNNNNNNNNNNNNNNNNNNNNNNNNNNNNNNNNNNNNNNNNNNNNNNNNNNNN'), ('NM', 0), ('MQ', 27), ('AS', 76), ('XS', 71)]\n"
     ]
    }
   ],
   "source": [
    "import pysam\n",
    "samfile = pysam.AlignmentFile(\"/sbgenomics/project-files/merged-tumor.bam\", \"rb\")\n",
    "for read in samfile:\n",
    "    first_read = read;\n",
    "    print(read);\n",
    "    break;"
   ]
  },
  {
   "cell_type": "code",
   "execution_count": 3,
   "metadata": {},
   "outputs": [
    {
     "name": "stdout",
     "output_type": "stream",
     "text": [
      "Inspect the fields in the AlignedSegment\n"
     ]
    },
    {
     "data": {
      "text/plain": [
       "['__class__',\n",
       " '__copy__',\n",
       " '__deepcopy__',\n",
       " '__delattr__',\n",
       " '__dir__',\n",
       " '__doc__',\n",
       " '__eq__',\n",
       " '__format__',\n",
       " '__ge__',\n",
       " '__getattribute__',\n",
       " '__gt__',\n",
       " '__hash__',\n",
       " '__init__',\n",
       " '__init_subclass__',\n",
       " '__le__',\n",
       " '__lt__',\n",
       " '__ne__',\n",
       " '__new__',\n",
       " '__pyx_vtable__',\n",
       " '__reduce__',\n",
       " '__reduce_ex__',\n",
       " '__repr__',\n",
       " '__setattr__',\n",
       " '__setstate__',\n",
       " '__sizeof__',\n",
       " '__str__',\n",
       " '__subclasshook__',\n",
       " 'aend',\n",
       " 'alen',\n",
       " 'aligned_pairs',\n",
       " 'bin',\n",
       " 'blocks',\n",
       " 'cigar',\n",
       " 'cigarstring',\n",
       " 'cigartuples',\n",
       " 'compare',\n",
       " 'flag',\n",
       " 'from_dict',\n",
       " 'fromstring',\n",
       " 'get_aligned_pairs',\n",
       " 'get_blocks',\n",
       " 'get_cigar_stats',\n",
       " 'get_forward_qualities',\n",
       " 'get_forward_sequence',\n",
       " 'get_overlap',\n",
       " 'get_reference_positions',\n",
       " 'get_reference_sequence',\n",
       " 'get_tag',\n",
       " 'get_tags',\n",
       " 'has_tag',\n",
       " 'header',\n",
       " 'infer_query_length',\n",
       " 'infer_read_length',\n",
       " 'inferred_length',\n",
       " 'is_duplicate',\n",
       " 'is_paired',\n",
       " 'is_proper_pair',\n",
       " 'is_qcfail',\n",
       " 'is_read1',\n",
       " 'is_read2',\n",
       " 'is_reverse',\n",
       " 'is_secondary',\n",
       " 'is_supplementary',\n",
       " 'is_unmapped',\n",
       " 'isize',\n",
       " 'mapping_quality',\n",
       " 'mapq',\n",
       " 'mate_is_reverse',\n",
       " 'mate_is_unmapped',\n",
       " 'mpos',\n",
       " 'mrnm',\n",
       " 'next_reference_id',\n",
       " 'next_reference_name',\n",
       " 'next_reference_start',\n",
       " 'opt',\n",
       " 'overlap',\n",
       " 'pnext',\n",
       " 'pos',\n",
       " 'positions',\n",
       " 'qend',\n",
       " 'qlen',\n",
       " 'qname',\n",
       " 'qqual',\n",
       " 'qstart',\n",
       " 'qual',\n",
       " 'query',\n",
       " 'query_alignment_end',\n",
       " 'query_alignment_length',\n",
       " 'query_alignment_qualities',\n",
       " 'query_alignment_sequence',\n",
       " 'query_alignment_start',\n",
       " 'query_length',\n",
       " 'query_name',\n",
       " 'query_qualities',\n",
       " 'query_sequence',\n",
       " 'reference_end',\n",
       " 'reference_id',\n",
       " 'reference_length',\n",
       " 'reference_name',\n",
       " 'reference_start',\n",
       " 'rlen',\n",
       " 'rname',\n",
       " 'rnext',\n",
       " 'seq',\n",
       " 'setTag',\n",
       " 'set_tag',\n",
       " 'set_tags',\n",
       " 'tags',\n",
       " 'template_length',\n",
       " 'tid',\n",
       " 'tlen',\n",
       " 'to_dict',\n",
       " 'to_string',\n",
       " 'tostring']"
      ]
     },
     "execution_count": 3,
     "metadata": {},
     "output_type": "execute_result"
    }
   ],
   "source": [
    "print('Inspect the fields in the AlignedSegment')\n",
    "dir(first_read)"
   ]
  },
  {
   "cell_type": "code",
   "execution_count": 4,
   "metadata": {},
   "outputs": [
    {
     "name": "stdout",
     "output_type": "stream",
     "text": [
      "Inspect the flag field\n"
     ]
    },
    {
     "data": {
      "text/plain": [
       "['__abs__',\n",
       " '__add__',\n",
       " '__and__',\n",
       " '__bool__',\n",
       " '__ceil__',\n",
       " '__class__',\n",
       " '__delattr__',\n",
       " '__dir__',\n",
       " '__divmod__',\n",
       " '__doc__',\n",
       " '__eq__',\n",
       " '__float__',\n",
       " '__floor__',\n",
       " '__floordiv__',\n",
       " '__format__',\n",
       " '__ge__',\n",
       " '__getattribute__',\n",
       " '__getnewargs__',\n",
       " '__gt__',\n",
       " '__hash__',\n",
       " '__index__',\n",
       " '__init__',\n",
       " '__init_subclass__',\n",
       " '__int__',\n",
       " '__invert__',\n",
       " '__le__',\n",
       " '__lshift__',\n",
       " '__lt__',\n",
       " '__mod__',\n",
       " '__mul__',\n",
       " '__ne__',\n",
       " '__neg__',\n",
       " '__new__',\n",
       " '__or__',\n",
       " '__pos__',\n",
       " '__pow__',\n",
       " '__radd__',\n",
       " '__rand__',\n",
       " '__rdivmod__',\n",
       " '__reduce__',\n",
       " '__reduce_ex__',\n",
       " '__repr__',\n",
       " '__rfloordiv__',\n",
       " '__rlshift__',\n",
       " '__rmod__',\n",
       " '__rmul__',\n",
       " '__ror__',\n",
       " '__round__',\n",
       " '__rpow__',\n",
       " '__rrshift__',\n",
       " '__rshift__',\n",
       " '__rsub__',\n",
       " '__rtruediv__',\n",
       " '__rxor__',\n",
       " '__setattr__',\n",
       " '__sizeof__',\n",
       " '__str__',\n",
       " '__sub__',\n",
       " '__subclasshook__',\n",
       " '__truediv__',\n",
       " '__trunc__',\n",
       " '__xor__',\n",
       " 'as_integer_ratio',\n",
       " 'bit_length',\n",
       " 'conjugate',\n",
       " 'denominator',\n",
       " 'from_bytes',\n",
       " 'imag',\n",
       " 'numerator',\n",
       " 'real',\n",
       " 'to_bytes']"
      ]
     },
     "execution_count": 4,
     "metadata": {},
     "output_type": "execute_result"
    }
   ],
   "source": [
    "print('Inspect the flag field')\n",
    "dir(first_read.flag)"
   ]
  },
  {
   "cell_type": "code",
   "execution_count": 5,
   "metadata": {},
   "outputs": [
    {
     "name": "stdout",
     "output_type": "stream",
     "text": [
      "Flag of the first read\n",
      "1187\n"
     ]
    }
   ],
   "source": [
    "print('Flag of the first read')\n",
    "print(first_read.flag)\n",
    "\n",
    "# Explained flag field of firstRead\n",
    "# read paired (0x1)\n",
    "# read mapped in proper pair (0x2)\n",
    "# mate reverse strand (0x20)\n",
    "# second in pair (0x80)\n",
    "# read is PCR or optical duplicate (0x400)\n"
   ]
  },
  {
   "cell_type": "code",
   "execution_count": 6,
   "metadata": {},
   "outputs": [
    {
     "name": "stdout",
     "output_type": "stream",
     "text": [
      "Count of unmapped reads:\n",
      "17765\n",
      "Total number of reads:\n",
      "2921629\n",
      "Number of reads with mapping quality 0:\n",
      "126628\n",
      "Average mapping quality for all the reads:\n",
      "55.91379158681681\n",
      "Average mapping quality if reads with 0 mapp quality are filtered out:\n",
      "58.446975510921106\n"
     ]
    }
   ],
   "source": [
    "count_unmapped_reads = 0;\n",
    "total_count_reads = 0;\n",
    "quality_zero_reads = 0;\n",
    "total_quality = 0;\n",
    "\n",
    "for read in pysam.AlignmentFile(\"/sbgenomics/project-files/merged-tumor.bam\", \"rb\"):\n",
    "    total_count_reads += 1;\n",
    "    if read.is_unmapped:\n",
    "        count_unmapped_reads += 1; \n",
    "    if read.mapping_quality:\n",
    "        total_quality += read.mapping_quality;\n",
    "    else:\n",
    "        quality_zero_reads += 1;\n",
    "        \n",
    "print('Count of unmapped reads:')       \n",
    "print(count_unmapped_reads)\n",
    "\n",
    "print('Total number of reads:')\n",
    "print(total_count_reads)\n",
    "\n",
    "print('Number of reads with mapping quality 0:')\n",
    "print(quality_zero_reads)\n",
    "\n",
    "print('Average mapping quality for all the reads:')\n",
    "print(total_quality/total_count_reads)\n",
    "\n",
    "print('Average mapping quality if reads with 0 mapp quality are filtered out:')\n",
    "print(total_quality/(total_count_reads-quality_zero_reads))\n"
   ]
  }
 ],
 "metadata": {
  "kernelspec": {
   "display_name": "Python 3",
   "language": "python",
   "name": "python3"
  },
  "language_info": {
   "codemirror_mode": {
    "name": "ipython",
    "version": 3
   },
   "file_extension": ".py",
   "mimetype": "text/x-python",
   "name": "python",
   "nbconvert_exporter": "python",
   "pygments_lexer": "ipython3",
   "version": "3.8.3"
  }
 },
 "nbformat": 4,
 "nbformat_minor": 4
}
